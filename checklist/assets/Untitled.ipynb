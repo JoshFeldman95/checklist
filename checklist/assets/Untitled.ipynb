{
 "cells": [
  {
   "cell_type": "code",
   "execution_count": 65,
   "metadata": {},
   "outputs": [],
   "source": [
    "import json\n",
    "import re\n",
    "checklist = {\n",
    "    'warnings': [],\n",
    "    'items': []\n",
    "}\n",
    "\n",
    "with open(\"./checklist_raw.txt\") as file:  \n",
    "    data = file.read() "
   ]
  },
  {
   "cell_type": "code",
   "execution_count": 66,
   "metadata": {},
   "outputs": [
    {
     "data": {
      "text/plain": [
       "'1/11. Missing perspectives: We have a system to collaborate and build trust with community members, particularly historically marginalized community members, on an ongoing basis.\\n2/11. Diverse Team: Our team is representative of the community we’re collaborating with.\\n3/11. Community Collaboration: We collaborated with community members on an ongoing basis to:\\n\\ta. see what is already working and whether we can help amplify these solutions,\\n\\tb. set the objectives for the project \\n\\tc. identify sources of bias that could be introduced during data collection/survey design,\\n\\td. define what successful/beneficial/just outcomes look like and what unsuccessful/harmful/unjust outcomes look like,\\n\\te. select the inputs to our model and define our metrics,\\n\\tf. understand what types of explanations will be needed,\\n\\tg. identify and prevent unintended uses and abuse of the model,\\n\\th. develop a system to identify if our model inflicts harm, and what should be done if this occurs.\\n4/11. Fair Compensation: Those who created our data, infrastructure, and hardware were fairly compensated.\\n5/11. Privacy Best Practices: We proactively considered the privacy of individuals in our training data and of our users (i.e. minimize exposure of personally identifiable information, only collect necessary information, encryption at rest and in transit, data deletion plan, etc.)\\n6/11. Consent: If we are using data on human subjects, they have provided (a) Freely given, (b) Reversible, (c) Informed, (d) Enthusiastic, and (e) Specific consent.\\n7/11. Met Standards Set by Community: We have assessed with community members whether our system meets the criteria they defined, disaggregated across intersecting identities (i.e. we meet the criteria not just for Black people and women, but also for Black women)\\n8/11. Honest and Intersectional Representation: our visualizations, summary statistics, and reports honestly illustrate outcomes across intersecting identities.\\n9/11. Roll back: We have tested turning off or rolling back the model in production.\\n10/11. Auditability: The process of generating the analysis is well documented and reproducible, and we have provided a method for the public sector and civil society to safely access our data and models.\\n11/11. Should This Exist: We still think we should build this.\\n\\n'"
      ]
     },
     "execution_count": 66,
     "metadata": {},
     "output_type": "execute_result"
    }
   ],
   "source": [
    "data"
   ]
  },
  {
   "cell_type": "code",
   "execution_count": 67,
   "metadata": {},
   "outputs": [],
   "source": [
    "data = re.split('\\n(?=[0-9b-h\\\\t\\/]+\\.)', data)\n",
    "\n",
    "\n",
    "checklist['warnings'].append('Following this checklist in no way guarantees and moral, ethical, or fair outcome')\n",
    "checklist['warnings'].append(\n",
    "    ('This checklist does not reduce the need for government regulation. ' \n",
    "    '\"Governments need to regulate AI by expanding the powers of sector-specific agencies to oversee, ' \n",
    "    'audit, and monitor these technologies by domain\" (AI NOW 2018 Report)')\n",
    ")\n",
    "\n",
    "checklist['items'] = data"
   ]
  },
  {
   "cell_type": "code",
   "execution_count": 68,
   "metadata": {},
   "outputs": [
    {
     "data": {
      "text/plain": [
       "{'warnings': ['Following this checklist in no way guarantees and moral, ethical, or fair outcome',\n",
       "  'This checklist does not reduce the need for government regulation. \"Governments need to regulate AI by expanding the powers of sector-specific agencies to oversee, audit, and monitor these technologies by domain\" (AI NOW 2018 Report)'],\n",
       " 'items': ['1/11. Missing perspectives: We have a system to collaborate and build trust with community members, particularly historically marginalized community members, on an ongoing basis.',\n",
       "  '2/11. Diverse Team: Our team is representative of the community we’re collaborating with.',\n",
       "  '3/11. Community Collaboration: We collaborated with community members on an ongoing basis to:\\n\\ta. see what is already working and whether we can help amplify these solutions,',\n",
       "  '\\tb. set the objectives for the project ',\n",
       "  '\\tc. identify sources of bias that could be introduced during data collection/survey design,',\n",
       "  '\\td. define what successful/beneficial/just outcomes look like and what unsuccessful/harmful/unjust outcomes look like,',\n",
       "  '\\te. select the inputs to our model and define our metrics,',\n",
       "  '\\tf. understand what types of explanations will be needed,',\n",
       "  '\\tg. identify and prevent unintended uses and abuse of the model,',\n",
       "  '\\th. develop a system to identify if our model inflicts harm, and what should be done if this occurs.',\n",
       "  '4/11. Fair Compensation: Those who created our data, infrastructure, and hardware were fairly compensated.',\n",
       "  '5/11. Privacy Best Practices: We proactively considered the privacy of individuals in our training data and of our users (i.e. minimize exposure of personally identifiable information, only collect necessary information, encryption at rest and in transit, data deletion plan, etc.)',\n",
       "  '6/11. Consent: If we are using data on human subjects, they have provided (a) Freely given, (b) Reversible, (c) Informed, (d) Enthusiastic, and (e) Specific consent.',\n",
       "  '7/11. Met Standards Set by Community: We have assessed with community members whether our system meets the criteria they defined, disaggregated across intersecting identities (i.e. we meet the criteria not just for Black people and women, but also for Black women)',\n",
       "  '8/11. Honest and Intersectional Representation: our visualizations, summary statistics, and reports honestly illustrate outcomes across intersecting identities.',\n",
       "  '9/11. Roll back: We have tested turning off or rolling back the model in production.',\n",
       "  '10/11. Auditability: The process of generating the analysis is well documented and reproducible, and we have provided a method for the public sector and civil society to safely access our data and models.',\n",
       "  '11/11. Should This Exist: We still think we should build this.\\n\\n']}"
      ]
     },
     "execution_count": 68,
     "metadata": {},
     "output_type": "execute_result"
    }
   ],
   "source": [
    "checklist"
   ]
  },
  {
   "cell_type": "code",
   "execution_count": 47,
   "metadata": {},
   "outputs": [],
   "source": [
    "with open('checklist.json', 'w') as outfile:  \n",
    "    json.dump(checklist, outfile)"
   ]
  },
  {
   "cell_type": "code",
   "execution_count": 69,
   "metadata": {},
   "outputs": [],
   "source": [
    "dic = {'a':1,'b':2}"
   ]
  },
  {
   "cell_type": "code",
   "execution_count": 81,
   "metadata": {},
   "outputs": [
    {
     "data": {
      "text/plain": [
       "75"
      ]
     },
     "execution_count": 81,
     "metadata": {},
     "output_type": "execute_result"
    }
   ],
   "source": [
    "round(sum(dic.values())/4*100)"
   ]
  },
  {
   "cell_type": "code",
   "execution_count": 77,
   "metadata": {},
   "outputs": [
    {
     "data": {
      "text/plain": [
       "<function round(number, ndigits=None)>"
      ]
     },
     "execution_count": 77,
     "metadata": {},
     "output_type": "execute_result"
    }
   ],
   "source": [
    "round"
   ]
  },
  {
   "cell_type": "code",
   "execution_count": null,
   "metadata": {},
   "outputs": [],
   "source": []
  }
 ],
 "metadata": {
  "kernelspec": {
   "display_name": "Python 3",
   "language": "python",
   "name": "python3"
  },
  "language_info": {
   "codemirror_mode": {
    "name": "ipython",
    "version": 3
   },
   "file_extension": ".py",
   "mimetype": "text/x-python",
   "name": "python",
   "nbconvert_exporter": "python",
   "pygments_lexer": "ipython3",
   "version": "3.7.1"
  }
 },
 "nbformat": 4,
 "nbformat_minor": 2
}
